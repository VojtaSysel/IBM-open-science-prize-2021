{
 "cells": [
  {
   "cell_type": "markdown",
   "id": "852ab4ac-e501-4694-bf67-90cd4122140e",
   "metadata": {},
   "source": [
    "# 1 Introduction\n",
    "\n",
    "### 1-1 Quantum Simulation\n",
    "One of the leading uses for quantum computers will be to simulate quantum systems such as molecules or engineered materials. Actually executing a quantum simulation on a current quantum computer, however, can be difficult and error prone. Your objective for this Open Science Prize is to significantly improve the state-of-the-art for quantum simulation (details in Section 2).\n",
    "\n",
    "The quantum system you will simulate is a quantum spin-1/2 model, where each qubit represents a quantum [spin-1/2](https://en.wikipedia.org/wiki/Spin-1/2) particle in a 1D chain. Quantum spin models have some amazing properties and uses. Computationally speaking, [certain optimization problems can be mapped](https://en.wikipedia.org/wiki/Spin-1/2) to spin models and hence minimized on a quantum computer. Physically speaking, spin models show a variety of quantum behavior such as large entangled states, quantum phases of matter, quantum many-body affects, and many other open questions in physics research.\n",
    "\n",
    "There are many different spin models, but we will focus on the [$XXX$ Heisenberg spin model](https://en.wikipedia.org/wiki/Quantum_Heisenberg_model#XXX_model). Though it is not as well known as the [transverse-field Ising model](https://en.wikipedia.org/wiki/Transverse-field_Ising_model), the $XXX$ Heisenberg model is of practical and theoretical interest. It can also be difficult to simulate, which is where you come in.\n",
    "\n",
    "The notebook is organized as follows:\n",
    "1) Section 1 (labeled 1-X) provides you with brief introductions to the $XXX$ Heisenberg model, time evolving a Hamiltonian, and decomposing a time evolution operator into gates for a quantum computer to execute.\n",
    "2) Section 2 (labeled 2-X) outlines the specific requirements and boundaries associated with completing and competing in the Open Science Prize. Continuing from Section 1, the notebook showns an example solution."
   ]
  },
  {
   "cell_type": "code",
   "execution_count": 1,
   "id": "d1548b05-e691-40a5-8b35-c0eaa87a2a72",
   "metadata": {},
   "outputs": [],
   "source": [
    "import numpy as np\n",
    "import matplotlib.pyplot as plt\n",
    "plt.rcParams.update({'font.size': 16})  # enlarge matplotlib fonts\n",
    "\n",
    "# Import qubit states Zero (|0>) and One (|1>), and Pauli operators (X, Y, Z)\n",
    "from qiskit.opflow import Zero, One, I, X, Y, Z\n",
    "\n",
    "# Suppress warnings\n",
    "import warnings\n",
    "warnings.filterwarnings('ignore')"
   ]
  },
  {
   "cell_type": "markdown",
   "id": "c764af20-017f-4209-9483-4f89f10cb562",
   "metadata": {},
   "source": [
    "### 1-2 The $XXX$ Heisenberg Spin Model\n",
    "\n",
    "To simulate a quantum system, we first need to define how the quantum particles that make up the system interact with each other. In quantum physics, this is done by defining a [Hamiltonian operator](https://en.wikipedia.org/wiki/Hamiltonian_(quantum_mechanics)). For this Open Science Prize, you will work with the $XXX$ Heisenberg Hamiltonian $H_{\\text{Heis}}$ as defined below\n",
    "\n",
    "$$\n",
    "\\begin{equation}\n",
    "H_{\\text{Heis}} = \\sum_{\\langle ij \\rangle}^{N} J \\left(\\sigma_x^{(i)}\\sigma_x^{(j)} + \\sigma_y^{(i)}\\sigma_y^{(j)} + \\sigma_z^{(i)}\\sigma_z^{(j)}\\right).\n",
    "\\end{equation}\n",
    "$$\n",
    "\n",
    "$N$ is the number of spin-1/2 particles in model. The operators $\\sigma_x$, $\\sigma_y$, and $\\sigma_z$ are [Pauli operators](https://en.wikipedia.org/wiki/Pauli_matrices) where the $i$ and $j$ superscripts label which qubit they act on. For example, $\\sigma_x^{(1)}$ would be the $\\sigma_x$ operator acting on only qubit 1 (which is the 2nd qubit since indexing starts at 0). This version of the general Heisenberg spin model is called $XXX$ because the same $J$ value multiplies each pair of Pauli operators. The sum notation $\\langle ij \\rangle$ means the sum is over nearest neighbors (only qubits next to each other interact), and $J$ is the interaction strength, which we will set $J=1$.\n",
    "\n",
    "You will work with the explicit case of $N=3$ with the 3 spins arranged in a line. Written out fully, the Hamiltonian is\n",
    "$$\n",
    "H_{\\text{Heis3}} = \\sigma_x^{(0)}\\sigma_x^{(1)} + \\sigma_x^{(1)}\\sigma_x^{(2)} + \\sigma_y^{(0)}\\sigma_y^{(1)} + \\sigma_y^{(1)}\\sigma_y^{(2)} + \\sigma_z^{(0)}\\sigma_z^{(1)} + \\sigma_z^{(1)}\\sigma_z^{(2)}.\n",
    "$$\n",
    "Now that we have a Hamiltonian ($H_{\\text{Heis3}}$), we can use it to determine how the quantum system of 3 spin-1/2 particles changes in time.\n",
    "\n",
    "*See the supplementary material for further details on $H_{\\text{Heis}}$, $H_{\\text{Heis3}}$ and its matrix repsentation.*"
   ]
  },
  {
   "cell_type": "code",
   "execution_count": 2,
   "id": "e6d371fd-f5c4-446a-83f4-ac7593fdcee1",
   "metadata": {},
   "outputs": [],
   "source": [
    "# Returns the matrix representation of the XXX Heisenberg model for 3 spin-1/2 particles in a line\n",
    "def H_heis3():\n",
    "    # Interactions (I is the identity matrix; X, Y, and Z are Pauli matricies; ^ is a tensor product)\n",
    "    XXs = (I^X^X) + (X^X^I)\n",
    "    YYs = (I^Y^Y) + (Y^Y^I)\n",
    "    ZZs = (I^Z^Z) + (Z^Z^I)\n",
    "    \n",
    "    # Sum interactions\n",
    "    H = XXs + YYs + ZZs\n",
    "    \n",
    "    # Return Hamiltonian\n",
    "    return H"
   ]
  },
  {
   "cell_type": "markdown",
   "id": "35323a1f-9aac-493a-87a8-116c3b7980ca",
   "metadata": {},
   "source": [
    "### 1-3 Time Evolution\n",
    "\n",
    "Knowing the Hamiltonian, we can determine how quantum states of that system evolve in time by solving the [Schrödinger equation](https://en.wikipedia.org/wiki/Schrödinger_equation)\n",
    "$$\n",
    "i\\hbar \\dfrac{d}{dt}|\\psi(t)\\rangle = H |\\psi(t)\\rangle\n",
    "$$\n",
    "\n",
    "For simplicity, let's set $\\hbar = 1$. We know that the Hamiltonian $H_{\\text{heis3}}$ does not change in time, so the solution to the Schrödinger equation is an exponential of the Hamiltonian operator\n",
    "$$\n",
    "\\begin{align}\n",
    "U_{\\text{Heis3}}(t) &= e^{-it H_\\text{Heis3}} = \\exp\\left(-it H_\\text{Heis3}\\right) \\\\\n",
    "U_{\\text{Heis3}}(t) &= \\exp\\left[-it \\sum_{\\langle ij \\rangle}^{N=3} \\left(\\sigma_x^{(i)}\\sigma_x^{(j)} + \\sigma_y^{(i)}\\sigma_y^{(j)} + \\sigma_z^{(i)}\\sigma_z^{(j)}\\right) \\right] \\\\\n",
    "U_{\\text{Heis3}}(t) &= \\exp\\left[-it \\left(\\sigma_x^{(0)}\\sigma_x^{(1)} + \\sigma_x^{(1)}\\sigma_x^{(2)} + \\sigma_y^{(0)}\\sigma_y^{(1)} + \\sigma_y^{(1)}\\sigma_y^{(2)} + \\sigma_z^{(0)}\\sigma_z^{(1)} + \\sigma_z^{(1)}\\sigma_z^{(2)}\\right) \\right]\n",
    "\\end{align}\n",
    "$$.\n",
    "\n",
    "Now that we have the time evolution operator $U_{\\text{Heis3}}(t)$, we can simulate changes in a state of the system ($|\\psi(t)\\rangle$) over time $|\\psi(t)\\rangle = U_{\\text{Heis3}}(t)|\\psi(t=0)\\rangle$. \n",
    "\n",
    "*See the supplementary material for more information on exponentiating an operator or matrix.*"
   ]
  },
  {
   "cell_type": "code",
   "execution_count": 3,
   "id": "ccdedbc8-f335-468c-9db5-b594aa2e50bd",
   "metadata": {},
   "outputs": [],
   "source": [
    "# Returns the matrix representation of U_heis3(t) for a given time t assuming an XXX Heisenberg Hamiltonian\n",
    "# for 3 spins-1/2 particles in a line\n",
    "def U_heis3(t):\n",
    "    # Compute XXX Hamiltonian for 3 spins in a line\n",
    "    H = H_heis3()\n",
    "    \n",
    "    # Return the exponential of -i multipled by time t multipled by the 3 spin XXX Heisenberg Hamilonian \n",
    "    return (t * H).exp_i()"
   ]
  },
  {
   "cell_type": "markdown",
   "id": "1668a459-1c19-4769-9263-ff0d8de330af",
   "metadata": {},
   "source": [
    "### 1-4 Classical Simulation of $H_{\\text{Heis3}}$\n",
    "\n",
    "Now that we have the operator $U_{\\text{Heis3}}(t)$ which describes how any state of the quantum system changes in time, we can simulate the $XXX$ Heisenberg spin model! Just for fun, let's simulate the system using a classical computer first.\n",
    "\n",
    "(Fun fact: Notice the size of $U_{\\text{Heis3}}(t)$ in matrix form. It's representated by an $8$x$8$ matrix. This is because there are $2^3=8$ states in the $N=3$ system. If the simulation were of $50$ particles ($N=50$), $U_{\\text{Heis}}(t)$ would be approximately $10^{15}$x$10^{15}$! Well beyond the capacity of today's computers.)"
   ]
  },
  {
   "cell_type": "code",
   "execution_count": 4,
   "id": "0813fede-9945-4477-9304-9f9891ce50a7",
   "metadata": {},
   "outputs": [
    {
     "data": {
      "image/png": "[encoded data removed]",
      "text/plain": [
       "<Figure size 432x288 with 1 Axes>"
      ]
     },
     "metadata": {
      "needs_background": "light"
     },
     "output_type": "display_data"
    }
   ],
   "source": [
    "# Define array of time points\n",
    "ts = np.linspace(0, np.pi, 100)\n",
    "\n",
    "# Define initial state |110>\n",
    "initial_state = One^One^Zero\n",
    "\n",
    "# Compute probability of remaining in |110> state over the array of time points\n",
    " # ~initial_state gives the bra of the initial state (<110|)\n",
    " # @ is short hand for matrix multiplication\n",
    " # U_heis3(t) is the unitary time evolution at time t\n",
    " # t needs to be wrapped with float(t) to avoid a bug\n",
    " # (...).eval() returns the inner product <110|U_heis3(t)|110>\n",
    " #  np.abs(...)**2 is the modulus squared of the innner product which is the expectation value, or probability, of remaining in |110>\n",
    "probs_110 = [np.abs((~initial_state @ U_heis3(float(t)) @ initial_state).eval())**2 for t in ts]\n",
    "\n",
    "# Plot evolution of |110>\n",
    "plt.plot(ts, probs_110)\n",
    "plt.xlabel('time')\n",
    "plt.ylabel(r'probability of state $|110\\rangle$')\n",
    "plt.title(r'Evolution of state $|110\\rangle$ under $H_{Heis3}$')\n",
    "plt.grid()\n",
    "plt.show()"
   ]
  },
  {
   "cell_type": "markdown",
   "id": "04db5341-8ba0-433b-b671-d929aba1fbe0",
   "metadata": {},
   "source": [
    "### 1-5 Decomposition of $U_{\\text{Heis3}}(t)$ Into Quantum Gates\n",
    "\n",
    "To execute $U_{\\text{Heis3}}(t)$ on a [circuit model](https://qiskit.org/documentation/apidoc/circuit.html) quantum computer, we must decompose $U_{\\text{Heis3}}(t)$ into a product of single and two-qubit gates that are native to that quantum computer. There are a [variety of techniques](https://en.wikipedia.org/wiki/Hamiltonian_simulation) to do this. For this Open Science Prize, you will only use [Trotterization](https://en.wikipedia.org/wiki/Hamiltonian_simulation#Product_Formulas) (which is sometimes refered to as Suzuki-Trotterization decomposition, Trotter formulas, product formulas, and other names).\n",
    "\n",
    "Below, we show an example Trotterization as outlined in \\[1-2\\].\n",
    "\n",
    "Since the [Pauli operators do not commute](https://en.wikipedia.org/wiki/Pauli_matrices#Commutation_relations) with each other, the exponential $U_{\\text{Heis3}}(t)$ cannot be split into a product of simpler exponentials. However, we can approximate $U_{\\text{Heis3}}(t)$ as a product of simpler exponentials through Trotterization. Consider a subsystem of 2 spin-1/2 particles within the larger 3 spin system. The Hamiltonian on spins $i$ and $j$ ($i,j \\in \\{0,1,2\\}$) would be $H^{(i,j)}_{\\text{Heis2}} = \\sigma_x^{(i)}\\sigma_x^{(j)} + \\sigma_y^{(i)}\\sigma_y^{(j)} + \\sigma_z^{(i)}\\sigma_z^{(j)}$. Rewritting $U_{\\text{Heis3}}(t)$ in terms of the two possible subsystems within the total $N=3$ system you will simulate,\n",
    "\n",
    "$$\n",
    "U_{\\text{Heis3}}(t) = \\exp\\left[-i t \\left(H^{(0,1)}_{\\text{Heis2}} + H^{(1,2)}_{\\text{Heis2}} \\right)\\right].\n",
    "$$\n",
    "\n",
    "$H^{(0,1)}_{\\text{Heis2}}$ and $H^{(1,2)}_{\\text{Heis2}}$ do not commute, so $U_{\\text{Heis3}}(t) \\neq \\exp\\left(-i t H^{(0,1)}_{\\text{Heis2}}\\right) \\exp\\left(-i t H^{(1,2)}_{\\text{Heis2}} \\right)$. But, this product decomposition can be approximated with Trotterization which says $U_{\\text{Heis3}}(t)$ is approximately a short evolution of $H^{(0,1)}_{\\text{Heis2}}$ (time = $t/n$) and followed by a short evolution of $H^{(1,2)}_{\\text{Heis2}}$ (time = $t/n$) repeated $n$ times\n",
    "\n",
    "$$\n",
    "\\begin{align}\n",
    "U_{\\text{Heis3}}(t) &= \\exp\\left[-i t \\left(H^{(0,1)}_{\\text{Heis2}} + H^{(1,2)}_{\\text{Heis2}} \\right)\\right] \\\\\n",
    "U_{\\text{Heis3}}(t) &\\approx \\left[\\exp\\left(\\dfrac{-it}{n}H^{(0,1)}_{\\text{Heis2}}\\right) \\exp\\left(\\dfrac{-it}{n}H^{(1,2)}_{\\text{Heis2}} \\right)\\right]^n.\n",
    "\\end{align}\n",
    "$$\n",
    "\n",
    "$n$ is the number of Trotter steps, and as $n$ increases, the approximation becomes more accurate. (Note that how a untiary is split up into subsystems for Trotterization is not necessarily unique.) The decomposition goes further. Within each 2 spin subsystems, the Pauli operator pairs ($\\sigma_x^{(i)}\\sigma_x^{(j)}$, $\\sigma_y^{(i)}\\sigma_y^{(j)}$, and $\\sigma_z^{(i)}\\sigma_z^{(j)}$) commute. This means we can decompose the exponential of a subsystem Hamiltonian ($H^{(i,j)}_{\\text{Heis2}}$) into a product of even simpler exponentials getting us closer to a gate implementation of $U_{\\text{Heis3}}(t)$\n",
    "\n",
    "$$\n",
    "\\begin{align}\n",
    "U_{\\text{Heis3}}(t) &\\approx \\left[\\exp\\left(\\dfrac{-it}{n}H^{(0,1)}_{\\text{Heis2}}\\right) \\exp\\left(\\dfrac{-it}{n}H^{(1,2)}_{\\text{Heis2}} \\right)\\right]^n \\\\\n",
    "U_{\\text{Heis3}}(t) &\\approx \\left[\\exp\\left(\\dfrac{-it}{n}\\left(\\sigma_x^{(0)}\\sigma_x^{(1)} + \\sigma_y^{(0)}\\sigma_y^{(1)} + \\sigma_z^{(0)}\\sigma_z^{(1)}\\right)\\right) \\exp\\left(\\dfrac{-it}{n}\\left(\\sigma_x^{(1)}\\sigma_x^{(2)} + \\sigma_y^{(1)}\\sigma_y^{(2)} + \\sigma_z^{(1)}\\sigma_z^{(2)}\\right)\\right)\\right]^{n} \\\\\n",
    "U_{\\text{Heis3}}(t) &\\approx \\left[\\exp\\left(\\dfrac{-it}{n}\\sigma_x^{(0)}\\sigma_x^{(1)}\\right) \\exp\\left(\\dfrac{-it}{n}\\sigma_y^{(0)}\\sigma_y^{(1)}\\right) \\exp\\left(\\dfrac{-it}{n}\\sigma_z^{(0)}\\sigma_z^{(1)}\\right) \\exp\\left(\\dfrac{-it}{n}\\sigma_x^{(1)}\\sigma_x^{(2)}\\right) \\exp\\left(\\dfrac{-it}{n}\\sigma_y^{(1)}\\sigma_y^{(2)}\\right) \\exp\\left(\\dfrac{-it}{n}\\sigma_z^{(1)}\\sigma_z^{(2)}\\right)\\right]^{n}\n",
    "\\end{align}\n",
    "$$\n",
    "\n",
    "For simplicity, and to use more common notation, let's rename the products with $XX(2t) = \\exp\\left(-it \\sigma_x\\sigma_x\\right)$, $YY(2t) = \\exp\\left(-it \\sigma_y\\sigma_y\\right)$, and $ZZ(2t) = \\exp\\left(-it \\sigma_z\\sigma_z\\right)$ and rewrite the Trotterized $U_{\\text{Heis3}}(t)$\n",
    "$$\n",
    "U_{\\text{Heis3}}(t) \\approx \\left[XX\\left(\\frac{2t}{n}\\right)^{(0,1)} YY\\left(\\frac{2t}{n}\\right)^{(0,1)} ZZ\\left(\\frac{2t}{n}\\right)^{(0,1)} XX\\left(\\frac{2t}{n}\\right)^{(1,2)} YY\\left(\\frac{2t}{n}\\right)^{(1,2)} ZZ\\left(\\frac{2t}{n}\\right)^{(1,2)} \\right]^{n}\n",
    "$$\n",
    "And that's it! We have now approximately decomposed $U_{\\text{Heis3}}(t)$ into two-qubit gates $XX(t)$, $YY(t)$, and $ZZ(t)$. These gates are not native to superconducting qubits, but in Section 2, they will be further decomposed into native single and two-qubit gates with *further details found in the supplementary material.*\n",
    "\n",
    "\n",
    "\\[1\\] Y. Salathe, et al., *Digital Quantum Simulation of Spin Models with Circuit Quantum Electrodynamics*, [Phys. Rev. X **5**, 021027 (2015)](https://link.aps.org/doi/10.1103/PhysRevX.5.021027)\n",
    "\n",
    "\\[2\\] F. Tacchino, et al., *Quantum Computers as Universal Quantum Simulators: State-of-the-Art and Perspectives*, [Adv. Quantum Technol. *3* 3 (2020)](https://doi.org/10.1002/qute.201900052) \\[[free arxiv version](https://arxiv.org/abs/1907.03505)\\]\n"
   ]
  },
  {
   "cell_type": "markdown",
   "id": "509e3761-6196-4b8f-aa5d-434bf1070eeb",
   "metadata": {},
   "source": [
    "# 2 The Open Science Prize\n",
    "### 2-1 Contest Details\n",
    "The Open Science Prize requirements and judging criteria can be found in the terms and conditions when registering on the [website](https://ibmquantumawards.bemyapp.com/#/event). Below is an outline of those requirements.\n",
    "\n",
    "You are to time evolve the state $|110\\rangle$ to time $t=\\pi$ under the $XXX$ Heisenberg model Hamiltonian $H_{\\text{heis3}}$ as defined in Section 1. This will be done on the ibmq_jakarta quantum computer. From left to right, the qubits in $|110\\rangle$ correspond to ibmq_jakarta's qubits 5, 3, and 1. The evolution must be done using Trotterization with at least 4 steps ($n\\geq4$). You will be judged on the clarity, originiality, and creativity of your solution, as well as the fidelity of the evolved state at time $t=\\pi$ using [state tomography](https://qiskit.org/documentation/tutorials/noise/8_tomography.html). State tomography is a way of determining the exact quantum state--even phase information--at the end of a quantum circuit by running the circuit multiple times and measuring in different bases. The closer your final quantum state to the expected state, the higher the fidelity. Ibmq_jakarta's qubits 0, 2, 4, and 6 will not be evaluated by the state tomography calculation, so you may use them as you wish. You do not need to follow the same decomposition given in the example above, but your solution must be a Trotterization of $U_{\\text{heis3}}(t)$ with at least 4 steps ($n\\geq4$). You may find it useful to implement techniques that reduce errors and improve qubit coherence."
   ]
  },
  {
   "cell_type": "markdown",
   "id": "c794b8f1-6de7-497b-a000-0b37f9d094b3",
   "metadata": {},
   "source": [
    "### 2-2 Import Qiskit\n",
    "\n",
    "Feel free to import packages as needed. However, only free packages and those obtained through ```pip install``` or ```conda install``` are allowed."
   ]
  },
  {
   "cell_type": "code",
   "execution_count": 1,
   "id": "8b3e598e-1156-4263-abc6-890e554cf4fb",
   "metadata": {},
   "outputs": [],
   "source": [
    "# Importing standard Qiskit modules\n",
    "from qiskit import QuantumCircuit, QuantumRegister, ClassicalRegister, IBMQ, execute, transpile\n",
    "from qiskit.providers.aer import QasmSimulator\n",
    "from qiskit.tools.monitor import job_monitor\n",
    "from qiskit.circuit import Parameter\n",
    "\n",
    "# Import state tomography modules\n",
    "from qiskit.ignis.verification.tomography import state_tomography_circuits, StateTomographyFitter\n",
    "from qiskit.quantum_info import state_fidelity\n",
    "\n",
    "# Other\n",
    "from copy import deepcopy\n",
    "\n",
    "# suppress warnings\n",
    "import warnings\n",
    "warnings.filterwarnings('ignore')"
   ]
  },
  {
   "cell_type": "markdown",
   "id": "900d2ab8-b568-4d28-87d8-473962fdc998",
   "metadata": {},
   "source": [
    "### 2-3 Quantum Devices\n",
    "Connect to IBM provider and connect to a real or simulated backend. Final submissions must be run on a real backend, but simulated devices are faster for debugging and testing."
   ]
  },
  {
   "cell_type": "code",
   "execution_count": 6,
   "id": "7345d1e9-4803-4bd8-a578-0af5294cb22a",
   "metadata": {},
   "outputs": [],
   "source": [
    "# load IBMQ Account data\n",
    "\n",
    "# IBMQ.save_account(TOKEN)  # replace TOKEN with your API token string (https://quantum-computing.ibm.com/lab/docs/iql/manage/account/ibmq)\n",
    "provider = IBMQ.load_account()"
   ]
  },
  {
   "cell_type": "code",
   "execution_count": 7,
   "id": "78e0af5d-6da9-4a08-912a-5a172535e03b",
   "metadata": {},
   "outputs": [],
   "source": [
    "# Get backend for experiment\n",
    "provider = IBMQ.get_provider(hub='ibm-q-community', group='ibmquantumawards', project='open-science-22')\n",
    "jakarta = provider.get_backend('ibmq_jakarta')\n",
    "# properties = jakarta.properties()\n",
    "\n",
    "# Simulated backend based on ibmq_jakarta's device noise profile\n",
    "sim_noisy_jakarta = QasmSimulator.from_backend(provider.get_backend('ibmq_jakarta'))\n",
    "\n",
    "# Noiseless simulated backend\n",
    "sim = QasmSimulator()"
   ]
  },
  {
   "cell_type": "markdown",
   "id": "d4e8a24c-5846-4de9-95ea-3033653c4037",
   "metadata": {},
   "source": [
    "### 2-4 Decomposition of $U_{\\text{Heis3}}(t)$ into Quantum Gates (Example)\n",
    "\n",
    "The following circuit code is written based on the example given in Section 1. This is where you write your solution."
   ]
  },
  {
   "cell_type": "markdown",
   "id": "207beaa7-58e9-40c1-a35c-f359ddb7aa8b",
   "metadata": {},
   "source": [
    "MY TROTTERIZATION GOES HERE -- START"
   ]
  },
  {
   "cell_type": "code",
   "execution_count": 8,
   "id": "9156980e-d3a7-4494-8ad4-7ec15ca92e7f",
   "metadata": {},
   "outputs": [],
   "source": [
    "# Parameterize variables to be evaluated at t1=pi/6 and t2=pi/12 later\n",
    "t1 = Parameter('t1')\n",
    "t2 = Parameter('t2')"
   ]
  },
  {
   "cell_type": "code",
   "execution_count": 9,
   "id": "9ba5b4cf",
   "metadata": {},
   "outputs": [],
   "source": [
    "# Build the subcircuit for XX(t1)YY(t1)ZZ(t1)\n",
    "def xxyyzz_30():\n",
    "    \n",
    "    # IMPORTANT! This subcircuit is derived for t1=pi/6 (30°)\n",
    "    qc = QuantumCircuit(2, name='xyz_30')\n",
    "    \n",
    "    # ZZ\n",
    "    qc.cx(0,1)\n",
    "    qc.rz(2*t1, 1)\n",
    "    \n",
    "    # XXYY\n",
    "    qc.crx(4*t1,1,0)\n",
    "    qc.cx(0,1)\n",
    "    \n",
    "    # This subcircuit represents \"the building block\" of a trotter step.\n",
    "    return qc.to_gate()\n",
    "\n",
    "# Build the subcircuit for XX(t2)YY(t2)ZZ(t2)\n",
    "def xxyyzz_15():\n",
    "    \n",
    "    # IMPORTANT! This subcircuit is derived for t2=pi/12 (15°)\n",
    "    qc = QuantumCircuit(2, name='xyz_15')\n",
    "    \n",
    "    # ZZ\n",
    "    qc.cx(0,1)\n",
    "    qc.rz(2*t2, 1)\n",
    "    \n",
    "    # XXYY\n",
    "    qc.crx(4*t2,1,0)\n",
    "    qc.cx(0,1)\n",
    "    \n",
    "    # This subcircuit represents \"the building block\" of a trotter step.\n",
    "    return qc.to_gate()"
   ]
  },
  {
   "cell_type": "markdown",
   "id": "4335d6d3-4a8e-4140-aad0-97b9b189905a",
   "metadata": {},
   "source": [
    "Combine subcircuits into single gate representing one ($n=1$) trotter step."
   ]
  },
  {
   "cell_type": "code",
   "execution_count": 10,
   "id": "8ef03f79-2c47-49da-93d5-0c0ae3ea5872",
   "metadata": {},
   "outputs": [],
   "source": [
    "# Combine subcircuits into a single multiqubit gate representing a single trotter step\n",
    "num_qubits = 3\n",
    "\n",
    "Trot_qr = QuantumRegister(num_qubits)\n",
    "\n",
    "#\n",
    "# Make subcircuit for the angle = 30°\n",
    "#\n",
    "Trot_qc_30 = QuantumCircuit(Trot_qr, name='Trot_30')\n",
    "\n",
    "for i in range(0, num_qubits - 1):\n",
    "    Trot_qc_30.append(xxyyzz_30(), [Trot_qr[i], Trot_qr[i+1]])\n",
    "\n",
    "# Convert custom quantum circuit into a gate\n",
    "Trot_gate_30 = Trot_qc_30.to_instruction()\n",
    "\n",
    "#\n",
    "# Make subcircuit for the angle = 15°\n",
    "#\n",
    "Trot_qc_15 = QuantumCircuit(Trot_qr, name='Trot_15')\n",
    "\n",
    "for i in range(0, num_qubits - 1):\n",
    "    Trot_qc_15.append(xxyyzz_15(), [Trot_qr[i], Trot_qr[i+1]])\n",
    "\n",
    "# Convert custom quantum circuit into a gate\n",
    "Trot_gate_15 = Trot_qc_15.to_instruction()"
   ]
  },
  {
   "cell_type": "markdown",
   "id": "0641237c-048e-41e7-b47c-88a364683fb7",
   "metadata": {},
   "source": [
    "MY TROTTERIZATION GOES HERE -- FINISH"
   ]
  },
  {
   "cell_type": "markdown",
   "id": "b9fb21ba-a2ea-4595-ba76-a4cef87ea666",
   "metadata": {},
   "source": [
    "### 2-5 Trotterized Time Evolution\n",
    "\n",
    "Time evolve the state $|110\\rangle$ from $\\theta=0$ to $\\theta=\\pi$ under $H_{\\text{heis3}}$. Although jakarta has 7 qubits, only the qubits 1, 3, and 5 will be used for the state $|110\\rangle$. From left to right, the qubits in $|110\\rangle$ corresponds to the qubits 5, 3, and 1 on jakarta. State tomography will evaluate how well the quantum simulation matches to the expected state at $\\theta= \\pi$. (Note qubits 0, 2, 4, and 6 are not part of the state tomography calculation.)\n",
    "\n",
    "You choose how many trotter steps (```trotter_steps```) to take in the simulation, but it must be at least 4. The code below is written to be generic enough for you may add to it if necessary for your solution."
   ]
  },
  {
   "cell_type": "code",
   "execution_count": 11,
   "id": "c6135540-dcea-4313-8ce8-0eb8e3ee23e7",
   "metadata": {},
   "outputs": [],
   "source": [
    "# The final time of the state evolution\n",
    "target_time = np.pi\n",
    "\n",
    "# Number of 30° and 15° trotter steps. Their total number must match the target_time.\n",
    "trotter_steps_30 = 4  \n",
    "trotter_steps_15 = 4\n",
    "trotter_steps = trotter_steps_30 + trotter_steps_15\n",
    "\n",
    "# Initialize quantum circuit for 3 qubits\n",
    "qr = QuantumRegister(7)\n",
    "qc = QuantumCircuit(qr)\n",
    "\n",
    "# Prepare initial state (remember we are only evolving 3 of the 7 qubits on jakarta qubits (q_5, q_3, q_1)\n",
    "# corresponding to the state |110>)\n",
    "qc.x([3,5])  # DO NOT MODIFY (|q_5,q_3,q_1> = |110>)\n",
    "\n",
    "# Simulate time evolution under H_heis3 Hamiltonian\n",
    "for _ in range(trotter_steps_30):\n",
    "    qc.append(Trot_gate_30, [qr[1], qr[3], qr[5]])\n",
    "    \n",
    "# Simulate time evolution under H_heis3 Hamiltonian\n",
    "for _ in range(trotter_steps_15):\n",
    "    qc.append(Trot_gate_15, [qr[1], qr[3], qr[5]])\n",
    "    \n",
    "# Apply the basic error correction for qubits #1 and #5.\n",
    "# We chose these qubits based on the physical connections between qubits in the \"ibmq_jakarta\" quantum computer.\n",
    "qc.cx(1,0)\n",
    "qc.cx(1,2)\n",
    "qc.cx(5,4)\n",
    "qc.cx(5,6)\n",
    "\n",
    "# Define the parameters t1 and t2 to specific values\n",
    "qc = qc.bind_parameters({t1: target_time/6})  # t1 = pi/6  (30°)\n",
    "qc = qc.bind_parameters({t2: target_time/12}) # t2 = pi/12 (15°)\n",
    "\n",
    "# Generate state tomography circuits to evaluate fidelity of simulation\n",
    "st_qcs = state_tomography_circuits(qc, [qr[1], qr[3], qr[5]])\n",
    "\n",
    "# Display circuit for confirmation\n",
    "# st_qcs[-1].decompose().draw()  # view decomposition of trotter gates\n",
    "# st_qcs[-1].draw()  # only view trotter gates"
   ]
  },
  {
   "cell_type": "code",
   "execution_count": 12,
   "id": "87336572",
   "metadata": {},
   "outputs": [
    {
     "data": {
      "text/html": [
       "<pre style=\"word-wrap: normal;white-space: pre;background: #fff0;line-height: 1.1;font-family: &quot;Courier New&quot;,Courier,monospace\">                                                                               »\n",
       "q1_0: ─────────────────────────────────────────────────────────────────────────»\n",
       "           ┌───────────────┐┌───────────────┐┌───────────────┐┌───────────────┐»\n",
       "q1_1: ─────┤0              ├┤0              ├┤0              ├┤0              ├»\n",
       "           │               ││               ││               ││               │»\n",
       "q1_2: ─────┤               ├┤               ├┤               ├┤               ├»\n",
       "      ┌───┐│               ││               ││               ││               │»\n",
       "q1_3: ┤ X ├┤1 Trot_30(π/6) ├┤1 Trot_30(π/6) ├┤1 Trot_30(π/6) ├┤1 Trot_30(π/6) ├»\n",
       "      └───┘│               ││               ││               ││               │»\n",
       "q1_4: ─────┤               ├┤               ├┤               ├┤               ├»\n",
       "      ┌───┐│               ││               ││               ││               │»\n",
       "q1_5: ┤ X ├┤2              ├┤2              ├┤2              ├┤2              ├»\n",
       "      └───┘└───────────────┘└───────────────┘└───────────────┘└───────────────┘»\n",
       "q1_6: ─────────────────────────────────────────────────────────────────────────»\n",
       "                                                                               »\n",
       "c0: 3/═════════════════════════════════════════════════════════════════════════»\n",
       "                                                                               »\n",
       "c1: 4/═════════════════════════════════════════════════════════════════════════»\n",
       "                                                                               »\n",
       "«                                                                              »\n",
       "«q1_0: ────────────────────────────────────────────────────────────────────────»\n",
       "«      ┌────────────────┐┌────────────────┐┌────────────────┐┌────────────────┐»\n",
       "«q1_1: ┤0               ├┤0               ├┤0               ├┤0               ├»\n",
       "«      │                ││                ││                ││                │»\n",
       "«q1_2: ┤                ├┤                ├┤                ├┤                ├»\n",
       "«      │                ││                ││                ││                │»\n",
       "«q1_3: ┤1 Trot_15(π/12) ├┤1 Trot_15(π/12) ├┤1 Trot_15(π/12) ├┤1 Trot_15(π/12) ├»\n",
       "«      │                ││                ││                ││                │»\n",
       "«q1_4: ┤                ├┤                ├┤                ├┤                ├»\n",
       "«      │                ││                ││                ││                │»\n",
       "«q1_5: ┤2               ├┤2               ├┤2               ├┤2               ├»\n",
       "«      └────────────────┘└────────────────┘└────────────────┘└────────────────┘»\n",
       "«q1_6: ────────────────────────────────────────────────────────────────────────»\n",
       "«                                                                              »\n",
       "«c0: 3/════════════════════════════════════════════════════════════════════════»\n",
       "«                                                                              »\n",
       "«c1: 4/════════════════════════════════════════════════════════════════════════»\n",
       "«                                                                              »\n",
       "«      ┌───┐      ░          ┌─┐         \n",
       "«q1_0: ┤ X ├──────░──────────┤M├─────────\n",
       "«      └─┬─┘      ░ ┌─┐      └╥┘         \n",
       "«q1_1: ──■────■───░─┤M├───────╫──────────\n",
       "«           ┌─┴─┐ ░ └╥┘       ║ ┌─┐      \n",
       "«q1_2: ─────┤ X ├─░──╫────────╫─┤M├──────\n",
       "«           └───┘ ░  ║ ┌─┐    ║ └╥┘      \n",
       "«q1_3: ───────────░──╫─┤M├────╫──╫───────\n",
       "«      ┌───┐      ░  ║ └╥┘    ║  ║ ┌─┐   \n",
       "«q1_4: ┤ X ├──────░──╫──╫─────╫──╫─┤M├───\n",
       "«      └─┬─┘      ░  ║  ║ ┌─┐ ║  ║ └╥┘   \n",
       "«q1_5: ──■────■───░──╫──╫─┤M├─╫──╫──╫────\n",
       "«           ┌─┴─┐ ░  ║  ║ └╥┘ ║  ║  ║ ┌─┐\n",
       "«q1_6: ─────┤ X ├─░──╫──╫──╫──╫──╫──╫─┤M├\n",
       "«           └───┘ ░  ║  ║  ║  ║  ║  ║ └╥┘\n",
       "«c0: 3/══════════════╩══╩══╩══╬══╬══╬══╬═\n",
       "«                    0  1  2  ║  ║  ║  ║ \n",
       "«c1: 4/═══════════════════════╩══╩══╩══╩═\n",
       "«                             0  1  2  3 </pre>"
      ],
      "text/plain": [
       "                                                                               »\n",
       "q1_0: ─────────────────────────────────────────────────────────────────────────»\n",
       "           ┌───────────────┐┌───────────────┐┌───────────────┐┌───────────────┐»\n",
       "q1_1: ─────┤0              ├┤0              ├┤0              ├┤0              ├»\n",
       "           │               ││               ││               ││               │»\n",
       "q1_2: ─────┤               ├┤               ├┤               ├┤               ├»\n",
       "      ┌───┐│               ││               ││               ││               │»\n",
       "q1_3: ┤ X ├┤1 Trot_30(π/6) ├┤1 Trot_30(π/6) ├┤1 Trot_30(π/6) ├┤1 Trot_30(π/6) ├»\n",
       "      └───┘│               ││               ││               ││               │»\n",
       "q1_4: ─────┤               ├┤               ├┤               ├┤               ├»\n",
       "      ┌───┐│               ││               ││               ││               │»\n",
       "q1_5: ┤ X ├┤2              ├┤2              ├┤2              ├┤2              ├»\n",
       "      └───┘└───────────────┘└───────────────┘└───────────────┘└───────────────┘»\n",
       "q1_6: ─────────────────────────────────────────────────────────────────────────»\n",
       "                                                                               »\n",
       "c0: 3/═════════════════════════════════════════════════════════════════════════»\n",
       "                                                                               »\n",
       "c1: 4/═════════════════════════════════════════════════════════════════════════»\n",
       "                                                                               »\n",
       "«                                                                              »\n",
       "«q1_0: ────────────────────────────────────────────────────────────────────────»\n",
       "«      ┌────────────────┐┌────────────────┐┌────────────────┐┌────────────────┐»\n",
       "«q1_1: ┤0               ├┤0               ├┤0               ├┤0               ├»\n",
       "«      │                ││                ││                ││                │»\n",
       "«q1_2: ┤                ├┤                ├┤                ├┤                ├»\n",
       "«      │                ││                ││                ││                │»\n",
       "«q1_3: ┤1 Trot_15(π/12) ├┤1 Trot_15(π/12) ├┤1 Trot_15(π/12) ├┤1 Trot_15(π/12) ├»\n",
       "«      │                ││                ││                ││                │»\n",
       "«q1_4: ┤                ├┤                ├┤                ├┤                ├»\n",
       "«      │                ││                ││                ││                │»\n",
       "«q1_5: ┤2               ├┤2               ├┤2               ├┤2               ├»\n",
       "«      └────────────────┘└────────────────┘└────────────────┘└────────────────┘»\n",
       "«q1_6: ────────────────────────────────────────────────────────────────────────»\n",
       "«                                                                              »\n",
       "«c0: 3/════════════════════════════════════════════════════════════════════════»\n",
       "«                                                                              »\n",
       "«c1: 4/════════════════════════════════════════════════════════════════════════»\n",
       "«                                                                              »\n",
       "«      ┌───┐      ░          ┌─┐         \n",
       "«q1_0: ┤ X ├──────░──────────┤M├─────────\n",
       "«      └─┬─┘      ░ ┌─┐      └╥┘         \n",
       "«q1_1: ──■────■───░─┤M├───────╫──────────\n",
       "«           ┌─┴─┐ ░ └╥┘       ║ ┌─┐      \n",
       "«q1_2: ─────┤ X ├─░──╫────────╫─┤M├──────\n",
       "«           └───┘ ░  ║ ┌─┐    ║ └╥┘      \n",
       "«q1_3: ───────────░──╫─┤M├────╫──╫───────\n",
       "«      ┌───┐      ░  ║ └╥┘    ║  ║ ┌─┐   \n",
       "«q1_4: ┤ X ├──────░──╫──╫─────╫──╫─┤M├───\n",
       "«      └─┬─┘      ░  ║  ║ ┌─┐ ║  ║ └╥┘   \n",
       "«q1_5: ──■────■───░──╫──╫─┤M├─╫──╫──╫────\n",
       "«           ┌─┴─┐ ░  ║  ║ └╥┘ ║  ║  ║ ┌─┐\n",
       "«q1_6: ─────┤ X ├─░──╫──╫──╫──╫──╫──╫─┤M├\n",
       "«           └───┘ ░  ║  ║  ║  ║  ║  ║ └╥┘\n",
       "«c0: 3/══════════════╩══╩══╩══╬══╬══╬══╬═\n",
       "«                    0  1  2  ║  ║  ║  ║ \n",
       "«c1: 4/═══════════════════════╩══╩══╩══╩═\n",
       "«                             0  1  2  3 "
      ]
     },
     "execution_count": 12,
     "metadata": {},
     "output_type": "execute_result"
    }
   ],
   "source": [
    "# Add the classical register. The register is used for the error correction.\n",
    "qst_orig = deepcopy(st_qcs)\n",
    "cr = ClassicalRegister(4)\n",
    "for qst_ghz_circ in st_qcs:\n",
    "    qst_ghz_circ.add_register(cr)\n",
    "    qst_ghz_circ.measure([qr[0], qr[2], qr[4], qr[6]], [cr[0], cr[1], cr[2], cr[3]])\n",
    "    \n",
    "st_qcs[-1].draw()"
   ]
  },
  {
   "cell_type": "markdown",
   "id": "1742151c-1261-4b42-80a4-da2c0ad90ac5",
   "metadata": {},
   "source": [
    "### 2-6 Execute\n",
    "For your final submission, you will need to execute your solution on a real backend with 8 repetitions. For faster debugging, considering using a simulated backend and/or 1 repetition."
   ]
  },
  {
   "cell_type": "code",
   "execution_count": 13,
   "id": "79c3ef21-c143-418a-8b50-f0ab39c5ae35",
   "metadata": {},
   "outputs": [
    {
     "name": "stdout",
     "output_type": "stream",
     "text": [
      "Job ID 623c9d67a2f72d0d3edab3a0\n",
      "Job ID 623c9d6b8293e98d2e1e5b0e\n",
      "Job ID 623c9d6de32b4234b5ecd736\n",
      "Job ID 623c9d6fa2f72d1b81dab3a1\n",
      "Job ID 623c9d71538eba81e0611255\n",
      "Job ID 623c9d74d97bff2cef69455d\n",
      "Job ID 623c9d7674de0ed0ee85acfb\n",
      "Job ID 623c9d7919e689048ac80bea\n"
     ]
    }
   ],
   "source": [
    "shots = 8192\n",
    "# reps = 8\n",
    "# backend = sim_noisy_jakarta\n",
    "reps = 8\n",
    "backend = jakarta\n",
    "\n",
    "jobs = []\n",
    "st_qcs_t = transpile(st_qcs, backend=backend, optimization_level=3)\n",
    "for _ in range(reps):\n",
    "    # execute\n",
    "    job = execute(st_qcs_t, backend, shots=shots)\n",
    "    print('Job ID', job.job_id())\n",
    "    jobs.append(job)"
   ]
  },
  {
   "cell_type": "markdown",
   "id": "be7acc76-86f0-4b1f-94e4-e4e1014f3956",
   "metadata": {},
   "source": [
    "We can monitor the status of the jobs using Qiskit's job monitoring tools."
   ]
  },
  {
   "cell_type": "code",
   "execution_count": null,
   "id": "1b142880-af5b-4913-8f50-9248e5d1646f",
   "metadata": {},
   "outputs": [
    {
     "name": "stdout",
     "output_type": "stream",
     "text": [
      "Job Status: job is queued (141)"
     ]
    }
   ],
   "source": [
    "for job in jobs:\n",
    "    job_monitor(job)\n",
    "    try:\n",
    "        if job.error_message() is not None:\n",
    "            print(job.error_message())\n",
    "    except:\n",
    "        pass"
   ]
  },
  {
   "cell_type": "markdown",
   "id": "e4186e06-db3d-4d0d-aef4-51906f41df61",
   "metadata": {},
   "source": [
    "### 2-7 Results Analysis\n",
    "Extract the results for the completed jobs and compute the state tomography fidelity for each repetition. You may choose to include other post-processing analyses here as well."
   ]
  },
  {
   "cell_type": "code",
   "execution_count": null,
   "id": "1c813957",
   "metadata": {},
   "outputs": [],
   "source": [
    "#\n",
    "# POST-PROCESSING\n",
    "#\n",
    "# Remove corrupted results from the statistics\n",
    "def result_filter(raw_results, new_results):\n",
    "\n",
    "    for resultidx, _ in enumerate(raw_results.results):\n",
    "        old_counts = raw_results.get_counts(resultidx)\n",
    "        new_counts = {}\n",
    "\n",
    "        # Change the size of the classical register\n",
    "        new_results.results[resultidx].header.creg_sizes = [new_results.results[resultidx].header.creg_sizes[0]]\n",
    "        new_results.results[resultidx].header.clbit_labels = new_results.results[resultidx].header.clbit_labels[0:3]\n",
    "        new_results.results[resultidx].header.memory_slots = 3\n",
    "\n",
    "        # Filter the results\n",
    "        for reg_key in old_counts:\n",
    "            reg_bits = reg_key.split(' ')\n",
    "            \n",
    "            # DON'T FORGET, REVERSE ORDER OF BITS! FROM LEFT TO RIGHT!\n",
    "            # Our case:\n",
    "            #            4. Classical bit [0][0] should be the same as the 3. Tomography bit [1][0]\n",
    "            #            3. Classical bit [0][0] should be the same as the 3. Tomography bit [1][0]\n",
    "            #            2. Classical bit [0][1] should be the same as the 1. Tomography bit [1][2]\n",
    "            #            1. Classical bit [0][2] should be the same as the 1. Tomography bit [1][2]\n",
    "            if reg_bits[0][0]==reg_bits[1][0] and reg_bits[0][1]==reg_bits[1][0] and reg_bits[0][2]==reg_bits[1][2] and reg_bits[0][3]==reg_bits[1][2]:    \n",
    "                new_counts[reg_bits[1]]=old_counts[reg_key]\n",
    "\n",
    "        new_results.results[resultidx].data.counts = new_counts"
   ]
  },
  {
   "cell_type": "code",
   "execution_count": null,
   "id": "f87c0c22-1f37-4f56-9ec5-7e3c5d7a8384",
   "metadata": {},
   "outputs": [],
   "source": [
    "# Compute the state tomography based on the st_qcs quantum circuits and the results from those ciricuits\n",
    "def state_tomo(result, st_qc):\n",
    "    # The expected final state; necessary to determine state tomography fidelity\n",
    "    target_state = (One^One^Zero).to_matrix()  # DO NOT MODIFY (|q_5,q_3,q_1> = |110>)\n",
    "    # Fit state tomography results\n",
    "    tomo_fitter = StateTomographyFitter(result, st_qc)\n",
    "    rho_fit = tomo_fitter.fit(method='lstsq')\n",
    "    # Compute fidelity\n",
    "    fid = state_fidelity(rho_fit, target_state)\n",
    "    return fid\n",
    "\n",
    "# Compute tomography fidelities for each repetition\n",
    "fids = []\n",
    "for job in jobs:\n",
    "    \n",
    "    # Implement the post-processing of results\n",
    "    current_results = job.result()\n",
    "    filtered_results = deepcopy(current_results)    \n",
    "    result_filter(current_results, filtered_results)\n",
    "\n",
    "    # Apply the state tomography with the filtered results\n",
    "    fid = state_tomo(filtered_results, qst_orig)\n",
    "    fids.append(fid)\n",
    "    \n",
    "print('state tomography fidelity = {:.4f} \\u00B1 {:.4f}'.format(np.mean(fids), np.std(fids)))"
   ]
  },
  {
   "cell_type": "code",
   "execution_count": 2,
   "id": "a7a0994c-f8bf-4613-8b1e-c78eb2864b8e",
   "metadata": {},
   "outputs": [
    {
     "data": {
      "text/html": [
       "<h3>Version Information</h3><table><tr><th>Qiskit Software</th><th>Version</th></tr><tr><td><code>qiskit-terra</code></td><td>0.18.3</td></tr><tr><td><code>qiskit-aer</code></td><td>0.9.1</td></tr><tr><td><code>qiskit-ignis</code></td><td>0.6.0</td></tr><tr><td><code>qiskit-ibmq-provider</code></td><td>0.18.1</td></tr><tr><td><code>qiskit-aqua</code></td><td>0.9.5</td></tr><tr><td><code>qiskit</code></td><td>0.32.1</td></tr><tr><th>System information</th></tr><tr><td>Python</td><td>3.8.8 (default, Apr 13 2021, 15:08:03) [MSC v.1916 64 bit (AMD64)]</td></tr><tr><td>OS</td><td>Windows</td></tr><tr><td>CPUs</td><td>4</td></tr><tr><td>Memory (Gb)</td><td>7.799663543701172</td></tr><tr><td colspan='2'>Fri Mar 25 16:50:55 2022 Střední Evropa (běžný čas)</td></tr></table>"
      ],
      "text/plain": [
       "<IPython.core.display.HTML object>"
      ]
     },
     "metadata": {},
     "output_type": "display_data"
    }
   ],
   "source": [
    "import qiskit.tools.jupyter\n",
    "%qiskit_version_table"
   ]
  },
  {
   "cell_type": "code",
   "execution_count": null,
   "id": "d0b1e5c2",
   "metadata": {},
   "outputs": [],
   "source": []
  }
 ],
 "metadata": {
  "kernelspec": {
   "display_name": "Python 3 (ipykernel)",
   "language": "python",
   "name": "python3"
  },
  "language_info": {
   "codemirror_mode": {
    "name": "ipython",
    "version": 3
   },
   "file_extension": ".py",
   "mimetype": "text/x-python",
   "name": "python",
   "nbconvert_exporter": "python",
   "pygments_lexer": "ipython3",
   "version": "3.8.8"
  },
  "toc-autonumbering": false,
  "toc-showcode": false,
  "toc-showmarkdowntxt": false,
  "toc-showtags": false
 },
 "nbformat": 4,
 "nbformat_minor": 5
}
